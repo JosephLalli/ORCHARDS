{
 "cells": [
  {
   "cell_type": "code",
   "execution_count": 1,
   "metadata": {},
   "outputs": [
    {
     "name": "stdout",
     "output_type": "stream",
     "text": [
      "loading subjects...\n",
      "loading samples...\n",
      "loading segments...\n",
      "loading genes...\n",
      "loading SNPs...\n",
      "loading transmission pairs...\n",
      "loading transmission segments...\n",
      "loading transmission SNPs...\n"
     ]
    },
    {
     "name": "stderr",
     "output_type": "stream",
     "text": [
      "/usr/local/lib/python3.8/dist-packages/IPython/core/interactiveshell.py:3337: DtypeWarning: Columns (58) have mixed types.Specify dtype option on import or set low_memory=False.\n",
      "  if (await self.run_code(code, result,  async_=asy)):\n",
      "/mnt/d/orchards/figure_constants.py:255: SettingWithCopyWarning: \n",
      "A value is trying to be set on a copy of a slice from a DataFrame.\n",
      "Try using .loc[row_indexer,col_indexer] = value instead\n",
      "\n",
      "See the caveats in the documentation: https://pandas.pydata.org/pandas-docs/stable/user_guide/indexing.html#returning-a-view-versus-a-copy\n",
      "  HA_add_on['antigenic_product'] = 'HA'\n"
     ]
    },
    {
     "name": "stdout",
     "output_type": "stream",
     "text": [
      "1.0\n",
      "1.0\n",
      "1.0\n",
      "1.0\n",
      "1.0\n",
      "1.0\n",
      "1.0\n"
     ]
    }
   ],
   "source": [
    "import os, sys\n",
    "import numpy as np\n",
    "import pandas as pd\n",
    "pd.set_option('display.max_columns', 500)\n",
    "import matplotlib.pyplot as plt\n",
    "import seaborn as sns\n",
    "import glob\n",
    "import json\n",
    "import ete3\n",
    "import subprocess\n",
    "import re\n",
    "import multiprocessing as mp\n",
    "import pysam\n",
    "from tqdm import tqdm\n",
    "from Bio import SeqIO\n",
    "\n",
    "from vcfClass import VCF\n",
    "from figure_constants import *"
   ]
  },
  {
   "cell_type": "code",
   "execution_count": 2,
   "metadata": {},
   "outputs": [
    {
     "name": "stdout",
     "output_type": "stream",
     "text": [
      "loading VCFs..\n",
      "Annotating...\n",
      "/mnt/d/orchards/h1n1/orchards_run19H3N2/A_Singapore_INFIMH-16-0019_2016/consensus/A_Singapore_INFIMH-16-0019_2016_consensus_noambig.fasta\n",
      "/mnt/d/orchards/h1n1/orchards_run19H3N2/A_Hong_Kong_4801_2014_EPI834581/consensus/A_Hong_Kong_4801_2014_EPI834581_consensus_noambig.fasta\n",
      "/mnt/d/orchards/h1n1/orchards_run19/A_Michigan_45_2015_H1N1_18/consensus/A_Michigan_45_2015_H1N1_18_consensus_noambig.fasta\n",
      "/mnt/d/orchards/h1n1/orchards_run19/A_Michigan_45_2015_H1N1_19/consensus/A_Michigan_45_2015_H1N1_19_consensus_noambig.fasta\n",
      "/mnt/d/orchards/h1n1/orchards_runB/B_Phuket_3073_2013_17/consensus/B_Phuket_3073_2013_17_consensus_noambig.fasta\n",
      "/mnt/d/orchards/h1n1/orchards_runB/B_Phuket_3073_2013_18/consensus/B_Phuket_3073_2013_18_consensus_noambig.fasta\n"
     ]
    }
   ],
   "source": [
    "#Load VCF files and annotate. Assumes already filtered.\n",
    "\n",
    "print ('loading VCFs..')\n",
    "VCFs = [VCF(x) for x in vcffiles]\n",
    "\n",
    "#Add annotation info\n",
    "print ('Annotating...')\n",
    "for allSNPsVCF, g, r in zip(allSNPsVCFs, gtfFiles, consensusReferences):\n",
    "    print (r)\n",
    "    regions = allSNPsVCF.annotate(g,r)"
   ]
  },
  {
   "cell_type": "code",
   "execution_count": null,
   "metadata": {},
   "outputs": [],
   "source": []
  },
  {
   "cell_type": "code",
   "execution_count": 3,
   "metadata": {},
   "outputs": [],
   "source": [
    "def one_hot_encode(seq):\n",
    "    mapping = dict(zip(\"ACGT\", range(4)))    \n",
    "    seq2 = [mapping[i] for i in seq]\n",
    "    return np.eye(4)[seq2]\n",
    "\n",
    "def create_ref_array(vcf):\n",
    "    concatrefseq = \"\"\n",
    "    segStarts = dict()\n",
    "    segCoords = dict()\n",
    "    runningtally = 0\n",
    "    for chrom, seq in vcf.reference.items():\n",
    "        segStarts[chrom.split('_')[-1]] = runningtally\n",
    "        segCoords[chrom.split('_')[-1]] = (runningtally, runningtally+len(seq))\n",
    "        runningtally += len(seq)\n",
    "        concatrefseq += seq\n",
    "    ref_array = one_hot_encode(concatrefseq)\n",
    "    ref_array = np.repeat(ref_array[np.newaxis,:,:], len(vcf.samples), axis=0)\n",
    "    return ref_array"
   ]
  },
  {
   "cell_type": "code",
   "execution_count": 4,
   "metadata": {},
   "outputs": [
    {
     "name": "stderr",
     "output_type": "stream",
     "text": [
      "<ipython-input-4-6464aeab065f>:6: RuntimeWarning: invalid value encountered in true_divide\n",
      "  frequencies = np.where(values_not_in_empty_nuc, n/np.sum(n,axis=2,keepdims=True), n)\n",
      "<ipython-input-4-6464aeab065f>:6: RuntimeWarning: invalid value encountered in true_divide\n",
      "  frequencies = np.where(values_not_in_empty_nuc, n/np.sum(n,axis=2,keepdims=True), n)\n",
      "<ipython-input-4-6464aeab065f>:6: RuntimeWarning: invalid value encountered in true_divide\n",
      "  frequencies = np.where(values_not_in_empty_nuc, n/np.sum(n,axis=2,keepdims=True), n)\n",
      "<ipython-input-4-6464aeab065f>:6: RuntimeWarning: invalid value encountered in true_divide\n",
      "  frequencies = np.where(values_not_in_empty_nuc, n/np.sum(n,axis=2,keepdims=True), n)\n",
      "<ipython-input-4-6464aeab065f>:6: RuntimeWarning: invalid value encountered in true_divide\n",
      "  frequencies = np.where(values_not_in_empty_nuc, n/np.sum(n,axis=2,keepdims=True), n)\n",
      "<ipython-input-4-6464aeab065f>:6: RuntimeWarning: invalid value encountered in true_divide\n",
      "  frequencies = np.where(values_not_in_empty_nuc, n/np.sum(n,axis=2,keepdims=True), n)\n"
     ]
    }
   ],
   "source": [
    "distances = list()\n",
    "for vcf in VCFs:\n",
    "    n, samples, SNP_locs = vcf.to_numpy(cutoff_freq = .01)\n",
    "    ref_array = create_ref_array(vcf)\n",
    "    values_not_in_empty_nuc = np.repeat((np.sum(n, axis=2) != 0)[:,:,np.newaxis], 4, axis=2)\n",
    "    frequencies = np.where(values_not_in_empty_nuc, n/np.sum(n,axis=2,keepdims=True), n)\n",
    "    freq_array = np.where(values_not_in_empty_nuc, frequencies, ref_array)\n",
    "    distances.extend([(sampleA, sampleB, np.sum(np.abs(freq_array[i]-freq_array[j]))/2) \n",
    "                 for i, sampleA in enumerate(samples) \n",
    "                 for j, sampleB in enumerate(samples) \n",
    "                 if sampleA != sampleB])"
   ]
  },
  {
   "cell_type": "code",
   "execution_count": 5,
   "metadata": {},
   "outputs": [],
   "source": [
    "distances = pd.DataFrame(distances, columns=['index','contact','distance'])"
   ]
  },
  {
   "cell_type": "code",
   "execution_count": 6,
   "metadata": {
    "scrolled": true
   },
   "outputs": [],
   "source": [
    "unique_distances = distances.drop_duplicates(subset='distance')"
   ]
  },
  {
   "cell_type": "code",
   "execution_count": 7,
   "metadata": {},
   "outputs": [],
   "source": [
    "distances.to_csv('/mnt/d/orchards/H1N1/figures/allvsall.tsv', sep='\\t')"
   ]
  }
 ],
 "metadata": {
  "kernelspec": {
   "display_name": "Python 3",
   "language": "python",
   "name": "python3"
  },
  "language_info": {
   "codemirror_mode": {
    "name": "ipython",
    "version": 3
   },
   "file_extension": ".py",
   "mimetype": "text/x-python",
   "name": "python",
   "nbconvert_exporter": "python",
   "pygments_lexer": "ipython3",
   "version": "3.8.5"
  }
 },
 "nbformat": 4,
 "nbformat_minor": 4
}